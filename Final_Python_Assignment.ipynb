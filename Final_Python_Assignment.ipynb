{
  "nbformat": 4,
  "nbformat_minor": 0,
  "metadata": {
    "colab": {
      "provenance": [],
      "authorship_tag": "ABX9TyNs0+7stIAMGiHYjlrFEFi/",
      "include_colab_link": true
    },
    "kernelspec": {
      "name": "python3",
      "display_name": "Python 3"
    },
    "language_info": {
      "name": "python"
    }
  },
  "cells": [
    {
      "cell_type": "markdown",
      "metadata": {
        "id": "view-in-github",
        "colab_type": "text"
      },
      "source": [
        "<a href=\"https://colab.research.google.com/github/jiban03214/cpp-cod/blob/main/Final_Python_Assignment.ipynb\" target=\"_parent\"><img src=\"https://colab.research.google.com/assets/colab-badge.svg\" alt=\"Open In Colab\"/></a>"
      ]
    },
    {
      "cell_type": "markdown",
      "source": [
        "1. Write a Python class Account with attributes like account number, date of opening balance and customer name, and methods like deposit, withdraw, and check balance and account history. The class is from the view of banking site. Different objects has to be created for different ac- count numbers."
      ],
      "metadata": {
        "id": "-jXkKnSDKTrB"
      }
    },
    {
      "cell_type": "code",
      "source": [
        "class Account:\n",
        "    def __init__(self):\n",
        "        self.account_number = int(input(\"Enter Account Number:: \"))\n",
        "        self.date_of_opening = str(input(\"Enter Date of Opening:: \"))\n",
        "        self.customer_name = str(input(\"Enter Customer Name:: \"))\n",
        "        self.balance = 0\n",
        "        self.transaction_history = []\n",
        "\n",
        "    def deposit(self, amount):\n",
        "        if amount <= 0:\n",
        "            print(\"Deposit amount must be greater than zero.\")\n",
        "        else:\n",
        "            self.balance += amount\n",
        "            self.transaction_history.append(f\"Deposited: {amount}\")\n",
        "\n",
        "    def withdraw(self, amount):\n",
        "        if amount <= 0:\n",
        "            print(\"Withdrawal amount must be greater than zero.\")\n",
        "        else:\n",
        "            if amount > self.balance:\n",
        "                print(\"Insufficient balance for withdrawal.\")\n",
        "            else:\n",
        "                self.balance -= amount\n",
        "                self.transaction_history.append(f\"Withdrew: {amount}\")\n",
        "\n",
        "    def check_balance(self):\n",
        "        return(self.balance)\n",
        "\n",
        "    def account_history(self):\n",
        "        return(self.transaction_history)\n",
        "\n",
        "if __name__ == \"__main__\":\n",
        "\n",
        "    print(\"For Customer 1::____\")\n",
        "    print()\n",
        "    account1 = Account()\n",
        "    amount=float(input(\"Enter deposit amount:: \"))\n",
        "    account1.deposit(amount)\n",
        "    amount=float(input(\"Enter withdraw amount:: \"))\n",
        "    account1.withdraw(amount)\n",
        "\n",
        "    print(\"For Customer 2::____\")\n",
        "    print()\n",
        "    account2 = Account()\n",
        "    amount=float(input(\"Enter deposit amount:: \"))\n",
        "    account2.deposit(amount)\n",
        "    amount=float(input(\"Enter withdraw amount:: \"))\n",
        "    account2.withdraw(amount)\n",
        "\n",
        "    print(\"Account details of Customer1::____\")\n",
        "    print()\n",
        "    print(f\"Account1 Balance: ${account1.check_balance()}\")\n",
        "    print(f\"Account1 Transaction History: {account1.account_history()}\")\n",
        "\n",
        "    print(\"Account details of Customer1::____\")\n",
        "    print()\n",
        "    print(f\"Account2 Balance: ${account2.check_balance()}\")\n",
        "    print(f\"Account2 Transaction History: {account2.account_history()}\")\n"
      ],
      "metadata": {
        "colab": {
          "base_uri": "https://localhost:8080/"
        },
        "id": "mnm__nVyVLc_",
        "outputId": "df5245e4-f85f-422f-a391-faad96c83ccc"
      },
      "execution_count": null,
      "outputs": [
        {
          "output_type": "stream",
          "name": "stdout",
          "text": [
            "For Customer 1::____\n",
            "\n",
            "Enter Account Number:: 1002354\n",
            "Enter Date of Opening:: 01-09-2022\n",
            "Enter Customer Name:: jiban mandal\n",
            "Enter deposit amount:: 50000\n",
            "Enter withdraw amount:: 5000\n",
            "For Customer 2::____\n",
            "\n",
            "Enter Account Number:: 102356\n",
            "Enter Date of Opening:: 05-09-2021\n",
            "Enter Customer Name:: Raj roy\n",
            "Enter deposit amount:: 45000\n",
            "Enter withdraw amount:: 80000\n",
            "Insufficient balance for withdrawal.\n",
            "Account details of Customer1::____\n",
            "\n",
            "Account1 Balance: $45000.0\n",
            "Account1 Transaction History: ['Deposited: 50000.0', 'Withdrew: 5000.0']\n",
            "Account details of Customer1::____\n",
            "\n",
            "Account2 Balance: $45000.0\n",
            "Account2 Transaction History: ['Deposited: 45000.0']\n"
          ]
        }
      ]
    },
    {
      "cell_type": "markdown",
      "source": [
        "\n",
        "2. Write a python program that will generate a random integer list of length 24. Convert in into an numpy array. Reshape the array to a 6 x 4 matrix. Find transpose of the matrix."
      ],
      "metadata": {
        "id": "6bPPyrz6V_49"
      }
    },
    {
      "cell_type": "code",
      "source": [
        "import numpy as np\n",
        "import random\n",
        "\n",
        "def generate_random_integer_list(length):\n",
        "    return [random.randint(1, 100) for _ in range(length)]\n",
        "\n",
        "if __name__ == \"__main__\":\n",
        "    length = 24\n",
        "    random_list = generate_random_integer_list(length)\n",
        "\n",
        "    array_1d = np.array(random_list)\n",
        "\n",
        "    array_2d = array_1d.reshape(6, 4)\n",
        "\n",
        "    transpose_matrix = np.transpose(array_2d)\n",
        "\n",
        "    print(\"Original 1D Array:\")\n",
        "    print(array_1d)\n",
        "\n",
        "    print(\"\\nReshaped 2D Matrix (6x4):\")\n",
        "    print(array_2d)\n",
        "\n",
        "    print(\"\\nTranspose of the Matrix:\")\n",
        "    print(transpose_matrix)"
      ],
      "metadata": {
        "colab": {
          "base_uri": "https://localhost:8080/"
        },
        "id": "VsF1SlOMKc6M",
        "outputId": "326fcad2-e0bc-4070-bdc3-a1f4c03d0375"
      },
      "execution_count": null,
      "outputs": [
        {
          "output_type": "stream",
          "name": "stdout",
          "text": [
            "Original 1D Array:\n",
            "[90 96  3 26 41 68 80 40 76 37 97 34 51 93 82 60 12 81 44 96 91 68 10  4]\n",
            "\n",
            "Reshaped 2D Matrix (6x4):\n",
            "[[90 96  3 26]\n",
            " [41 68 80 40]\n",
            " [76 37 97 34]\n",
            " [51 93 82 60]\n",
            " [12 81 44 96]\n",
            " [91 68 10  4]]\n",
            "\n",
            "Transpose of the Matrix:\n",
            "[[90 41 76 51 12 91]\n",
            " [96 68 37 93 81 68]\n",
            " [ 3 80 97 82 44 10]\n",
            " [26 40 34 60 96  4]]\n"
          ]
        }
      ]
    },
    {
      "cell_type": "markdown",
      "source": [
        "3. From internet download csv file of iris data. Read the csv file into a python program. Create a numpy matrix called data that will contain the numeric attributes of iris data. Create a list named target that will contain the species column of iris dataset."
      ],
      "metadata": {
        "id": "ravMRZvdKemM"
      }
    },
    {
      "cell_type": "code",
      "source": [
        "import numpy as np\n",
        "import csv\n",
        "\n",
        "def read_iris_csv(file_path):\n",
        "    data = []\n",
        "    target = []\n",
        "\n",
        "    with open(file_path, 'r') as file:\n",
        "        csv_reader = csv.reader(file)\n",
        "        header = next(csv_reader)\n",
        "\n",
        "        for row in csv_reader:\n",
        "            data.append([float(value) for value in row[:-1]])\n",
        "            target.append(row[-1])\n",
        "\n",
        "    return data, target\n",
        "\n",
        "if __name__ == \"__main__\":\n",
        "    file_path = \"iris.csv\"\n",
        "\n",
        "    data, target = read_iris_csv(file_path)\n",
        "\n",
        "    data = np.array(data)\n",
        "\n",
        "    print(\"Numeric attributes matrix:\")\n",
        "    print(data)\n",
        "\n",
        "    print(\"\\nSpecies target list:\")\n",
        "    print(target)"
      ],
      "metadata": {
        "colab": {
          "base_uri": "https://localhost:8080/"
        },
        "id": "M32Qbim1KfkC",
        "outputId": "6cbbf5b7-5b9b-4e5c-e8c5-0af2f2fd2c76"
      },
      "execution_count": null,
      "outputs": [
        {
          "output_type": "stream",
          "name": "stdout",
          "text": [
            "Numeric attributes matrix:\n",
            "[[1.00e+00 5.10e+00 3.50e+00 1.40e+00 2.00e-01]\n",
            " [2.00e+00 4.90e+00 3.00e+00 1.40e+00 2.00e-01]\n",
            " [3.00e+00 4.70e+00 3.20e+00 1.30e+00 2.00e-01]\n",
            " [4.00e+00 4.60e+00 3.10e+00 1.50e+00 2.00e-01]\n",
            " [5.00e+00 5.00e+00 3.60e+00 1.40e+00 2.00e-01]\n",
            " [6.00e+00 5.40e+00 3.90e+00 1.70e+00 4.00e-01]\n",
            " [7.00e+00 4.60e+00 3.40e+00 1.40e+00 3.00e-01]\n",
            " [8.00e+00 5.00e+00 3.40e+00 1.50e+00 2.00e-01]\n",
            " [9.00e+00 4.40e+00 2.90e+00 1.40e+00 2.00e-01]\n",
            " [1.00e+01 4.90e+00 3.10e+00 1.50e+00 1.00e-01]\n",
            " [1.10e+01 5.40e+00 3.70e+00 1.50e+00 2.00e-01]\n",
            " [1.20e+01 4.80e+00 3.40e+00 1.60e+00 2.00e-01]\n",
            " [1.30e+01 4.80e+00 3.00e+00 1.40e+00 1.00e-01]\n",
            " [1.40e+01 4.30e+00 3.00e+00 1.10e+00 1.00e-01]\n",
            " [1.50e+01 5.80e+00 4.00e+00 1.20e+00 2.00e-01]\n",
            " [1.60e+01 5.70e+00 4.40e+00 1.50e+00 4.00e-01]\n",
            " [1.70e+01 5.40e+00 3.90e+00 1.30e+00 4.00e-01]\n",
            " [1.80e+01 5.10e+00 3.50e+00 1.40e+00 3.00e-01]\n",
            " [1.90e+01 5.70e+00 3.80e+00 1.70e+00 3.00e-01]\n",
            " [2.00e+01 5.10e+00 3.80e+00 1.50e+00 3.00e-01]\n",
            " [2.10e+01 5.40e+00 3.40e+00 1.70e+00 2.00e-01]\n",
            " [2.20e+01 5.10e+00 3.70e+00 1.50e+00 4.00e-01]\n",
            " [2.30e+01 4.60e+00 3.60e+00 1.00e+00 2.00e-01]\n",
            " [2.40e+01 5.10e+00 3.30e+00 1.70e+00 5.00e-01]\n",
            " [2.50e+01 4.80e+00 3.40e+00 1.90e+00 2.00e-01]\n",
            " [2.60e+01 5.00e+00 3.00e+00 1.60e+00 2.00e-01]\n",
            " [2.70e+01 5.00e+00 3.40e+00 1.60e+00 4.00e-01]\n",
            " [2.80e+01 5.20e+00 3.50e+00 1.50e+00 2.00e-01]\n",
            " [2.90e+01 5.20e+00 3.40e+00 1.40e+00 2.00e-01]\n",
            " [3.00e+01 4.70e+00 3.20e+00 1.60e+00 2.00e-01]\n",
            " [3.10e+01 4.80e+00 3.10e+00 1.60e+00 2.00e-01]\n",
            " [3.20e+01 5.40e+00 3.40e+00 1.50e+00 4.00e-01]\n",
            " [3.30e+01 5.20e+00 4.10e+00 1.50e+00 1.00e-01]\n",
            " [3.40e+01 5.50e+00 4.20e+00 1.40e+00 2.00e-01]\n",
            " [3.50e+01 4.90e+00 3.10e+00 1.50e+00 1.00e-01]\n",
            " [3.60e+01 5.00e+00 3.20e+00 1.20e+00 2.00e-01]\n",
            " [3.70e+01 5.50e+00 3.50e+00 1.30e+00 2.00e-01]\n",
            " [3.80e+01 4.90e+00 3.10e+00 1.50e+00 1.00e-01]\n",
            " [3.90e+01 4.40e+00 3.00e+00 1.30e+00 2.00e-01]\n",
            " [4.00e+01 5.10e+00 3.40e+00 1.50e+00 2.00e-01]\n",
            " [4.10e+01 5.00e+00 3.50e+00 1.30e+00 3.00e-01]\n",
            " [4.20e+01 4.50e+00 2.30e+00 1.30e+00 3.00e-01]\n",
            " [4.30e+01 4.40e+00 3.20e+00 1.30e+00 2.00e-01]\n",
            " [4.40e+01 5.00e+00 3.50e+00 1.60e+00 6.00e-01]\n",
            " [4.50e+01 5.10e+00 3.80e+00 1.90e+00 4.00e-01]\n",
            " [4.60e+01 4.80e+00 3.00e+00 1.40e+00 3.00e-01]\n",
            " [4.70e+01 5.10e+00 3.80e+00 1.60e+00 2.00e-01]\n",
            " [4.80e+01 4.60e+00 3.20e+00 1.40e+00 2.00e-01]\n",
            " [4.90e+01 5.30e+00 3.70e+00 1.50e+00 2.00e-01]\n",
            " [5.00e+01 5.00e+00 3.30e+00 1.40e+00 2.00e-01]\n",
            " [5.10e+01 7.00e+00 3.20e+00 4.70e+00 1.40e+00]\n",
            " [5.20e+01 6.40e+00 3.20e+00 4.50e+00 1.50e+00]\n",
            " [5.30e+01 6.90e+00 3.10e+00 4.90e+00 1.50e+00]\n",
            " [5.40e+01 5.50e+00 2.30e+00 4.00e+00 1.30e+00]\n",
            " [5.50e+01 6.50e+00 2.80e+00 4.60e+00 1.50e+00]\n",
            " [5.60e+01 5.70e+00 2.80e+00 4.50e+00 1.30e+00]\n",
            " [5.70e+01 6.30e+00 3.30e+00 4.70e+00 1.60e+00]\n",
            " [5.80e+01 4.90e+00 2.40e+00 3.30e+00 1.00e+00]\n",
            " [5.90e+01 6.60e+00 2.90e+00 4.60e+00 1.30e+00]\n",
            " [6.00e+01 5.20e+00 2.70e+00 3.90e+00 1.40e+00]\n",
            " [6.10e+01 5.00e+00 2.00e+00 3.50e+00 1.00e+00]\n",
            " [6.20e+01 5.90e+00 3.00e+00 4.20e+00 1.50e+00]\n",
            " [6.30e+01 6.00e+00 2.20e+00 4.00e+00 1.00e+00]\n",
            " [6.40e+01 6.10e+00 2.90e+00 4.70e+00 1.40e+00]\n",
            " [6.50e+01 5.60e+00 2.90e+00 3.60e+00 1.30e+00]\n",
            " [6.60e+01 6.70e+00 3.10e+00 4.40e+00 1.40e+00]\n",
            " [6.70e+01 5.60e+00 3.00e+00 4.50e+00 1.50e+00]\n",
            " [6.80e+01 5.80e+00 2.70e+00 4.10e+00 1.00e+00]\n",
            " [6.90e+01 6.20e+00 2.20e+00 4.50e+00 1.50e+00]\n",
            " [7.00e+01 5.60e+00 2.50e+00 3.90e+00 1.10e+00]\n",
            " [7.10e+01 5.90e+00 3.20e+00 4.80e+00 1.80e+00]\n",
            " [7.20e+01 6.10e+00 2.80e+00 4.00e+00 1.30e+00]\n",
            " [7.30e+01 6.30e+00 2.50e+00 4.90e+00 1.50e+00]\n",
            " [7.40e+01 6.10e+00 2.80e+00 4.70e+00 1.20e+00]\n",
            " [7.50e+01 6.40e+00 2.90e+00 4.30e+00 1.30e+00]\n",
            " [7.60e+01 6.60e+00 3.00e+00 4.40e+00 1.40e+00]\n",
            " [7.70e+01 6.80e+00 2.80e+00 4.80e+00 1.40e+00]\n",
            " [7.80e+01 6.70e+00 3.00e+00 5.00e+00 1.70e+00]\n",
            " [7.90e+01 6.00e+00 2.90e+00 4.50e+00 1.50e+00]\n",
            " [8.00e+01 5.70e+00 2.60e+00 3.50e+00 1.00e+00]\n",
            " [8.10e+01 5.50e+00 2.40e+00 3.80e+00 1.10e+00]\n",
            " [8.20e+01 5.50e+00 2.40e+00 3.70e+00 1.00e+00]\n",
            " [8.30e+01 5.80e+00 2.70e+00 3.90e+00 1.20e+00]\n",
            " [8.40e+01 6.00e+00 2.70e+00 5.10e+00 1.60e+00]\n",
            " [8.50e+01 5.40e+00 3.00e+00 4.50e+00 1.50e+00]\n",
            " [8.60e+01 6.00e+00 3.40e+00 4.50e+00 1.60e+00]\n",
            " [8.70e+01 6.70e+00 3.10e+00 4.70e+00 1.50e+00]\n",
            " [8.80e+01 6.30e+00 2.30e+00 4.40e+00 1.30e+00]\n",
            " [8.90e+01 5.60e+00 3.00e+00 4.10e+00 1.30e+00]\n",
            " [9.00e+01 5.50e+00 2.50e+00 4.00e+00 1.30e+00]\n",
            " [9.10e+01 5.50e+00 2.60e+00 4.40e+00 1.20e+00]\n",
            " [9.20e+01 6.10e+00 3.00e+00 4.60e+00 1.40e+00]\n",
            " [9.30e+01 5.80e+00 2.60e+00 4.00e+00 1.20e+00]\n",
            " [9.40e+01 5.00e+00 2.30e+00 3.30e+00 1.00e+00]\n",
            " [9.50e+01 5.60e+00 2.70e+00 4.20e+00 1.30e+00]\n",
            " [9.60e+01 5.70e+00 3.00e+00 4.20e+00 1.20e+00]\n",
            " [9.70e+01 5.70e+00 2.90e+00 4.20e+00 1.30e+00]\n",
            " [9.80e+01 6.20e+00 2.90e+00 4.30e+00 1.30e+00]\n",
            " [9.90e+01 5.10e+00 2.50e+00 3.00e+00 1.10e+00]\n",
            " [1.00e+02 5.70e+00 2.80e+00 4.10e+00 1.30e+00]\n",
            " [1.01e+02 6.30e+00 3.30e+00 6.00e+00 2.50e+00]\n",
            " [1.02e+02 5.80e+00 2.70e+00 5.10e+00 1.90e+00]\n",
            " [1.03e+02 7.10e+00 3.00e+00 5.90e+00 2.10e+00]\n",
            " [1.04e+02 6.30e+00 2.90e+00 5.60e+00 1.80e+00]\n",
            " [1.05e+02 6.50e+00 3.00e+00 5.80e+00 2.20e+00]\n",
            " [1.06e+02 7.60e+00 3.00e+00 6.60e+00 2.10e+00]\n",
            " [1.07e+02 4.90e+00 2.50e+00 4.50e+00 1.70e+00]\n",
            " [1.08e+02 7.30e+00 2.90e+00 6.30e+00 1.80e+00]\n",
            " [1.09e+02 6.70e+00 2.50e+00 5.80e+00 1.80e+00]\n",
            " [1.10e+02 7.20e+00 3.60e+00 6.10e+00 2.50e+00]\n",
            " [1.11e+02 6.50e+00 3.20e+00 5.10e+00 2.00e+00]\n",
            " [1.12e+02 6.40e+00 2.70e+00 5.30e+00 1.90e+00]\n",
            " [1.13e+02 6.80e+00 3.00e+00 5.50e+00 2.10e+00]\n",
            " [1.14e+02 5.70e+00 2.50e+00 5.00e+00 2.00e+00]\n",
            " [1.15e+02 5.80e+00 2.80e+00 5.10e+00 2.40e+00]\n",
            " [1.16e+02 6.40e+00 3.20e+00 5.30e+00 2.30e+00]\n",
            " [1.17e+02 6.50e+00 3.00e+00 5.50e+00 1.80e+00]\n",
            " [1.18e+02 7.70e+00 3.80e+00 6.70e+00 2.20e+00]\n",
            " [1.19e+02 7.70e+00 2.60e+00 6.90e+00 2.30e+00]\n",
            " [1.20e+02 6.00e+00 2.20e+00 5.00e+00 1.50e+00]\n",
            " [1.21e+02 6.90e+00 3.20e+00 5.70e+00 2.30e+00]\n",
            " [1.22e+02 5.60e+00 2.80e+00 4.90e+00 2.00e+00]\n",
            " [1.23e+02 7.70e+00 2.80e+00 6.70e+00 2.00e+00]\n",
            " [1.24e+02 6.30e+00 2.70e+00 4.90e+00 1.80e+00]\n",
            " [1.25e+02 6.70e+00 3.30e+00 5.70e+00 2.10e+00]\n",
            " [1.26e+02 7.20e+00 3.20e+00 6.00e+00 1.80e+00]\n",
            " [1.27e+02 6.20e+00 2.80e+00 4.80e+00 1.80e+00]\n",
            " [1.28e+02 6.10e+00 3.00e+00 4.90e+00 1.80e+00]\n",
            " [1.29e+02 6.40e+00 2.80e+00 5.60e+00 2.10e+00]\n",
            " [1.30e+02 7.20e+00 3.00e+00 5.80e+00 1.60e+00]\n",
            " [1.31e+02 7.40e+00 2.80e+00 6.10e+00 1.90e+00]\n",
            " [1.32e+02 7.90e+00 3.80e+00 6.40e+00 2.00e+00]\n",
            " [1.33e+02 6.40e+00 2.80e+00 5.60e+00 2.20e+00]\n",
            " [1.34e+02 6.30e+00 2.80e+00 5.10e+00 1.50e+00]\n",
            " [1.35e+02 6.10e+00 2.60e+00 5.60e+00 1.40e+00]\n",
            " [1.36e+02 7.70e+00 3.00e+00 6.10e+00 2.30e+00]\n",
            " [1.37e+02 6.30e+00 3.40e+00 5.60e+00 2.40e+00]\n",
            " [1.38e+02 6.40e+00 3.10e+00 5.50e+00 1.80e+00]\n",
            " [1.39e+02 6.00e+00 3.00e+00 4.80e+00 1.80e+00]\n",
            " [1.40e+02 6.90e+00 3.10e+00 5.40e+00 2.10e+00]\n",
            " [1.41e+02 6.70e+00 3.10e+00 5.60e+00 2.40e+00]\n",
            " [1.42e+02 6.90e+00 3.10e+00 5.10e+00 2.30e+00]\n",
            " [1.43e+02 5.80e+00 2.70e+00 5.10e+00 1.90e+00]\n",
            " [1.44e+02 6.80e+00 3.20e+00 5.90e+00 2.30e+00]\n",
            " [1.45e+02 6.70e+00 3.30e+00 5.70e+00 2.50e+00]\n",
            " [1.46e+02 6.70e+00 3.00e+00 5.20e+00 2.30e+00]\n",
            " [1.47e+02 6.30e+00 2.50e+00 5.00e+00 1.90e+00]\n",
            " [1.48e+02 6.50e+00 3.00e+00 5.20e+00 2.00e+00]\n",
            " [1.49e+02 6.20e+00 3.40e+00 5.40e+00 2.30e+00]\n",
            " [1.50e+02 5.90e+00 3.00e+00 5.10e+00 1.80e+00]]\n",
            "\n",
            "Species target list:\n",
            "['Iris-setosa', 'Iris-setosa', 'Iris-setosa', 'Iris-setosa', 'Iris-setosa', 'Iris-setosa', 'Iris-setosa', 'Iris-setosa', 'Iris-setosa', 'Iris-setosa', 'Iris-setosa', 'Iris-setosa', 'Iris-setosa', 'Iris-setosa', 'Iris-setosa', 'Iris-setosa', 'Iris-setosa', 'Iris-setosa', 'Iris-setosa', 'Iris-setosa', 'Iris-setosa', 'Iris-setosa', 'Iris-setosa', 'Iris-setosa', 'Iris-setosa', 'Iris-setosa', 'Iris-setosa', 'Iris-setosa', 'Iris-setosa', 'Iris-setosa', 'Iris-setosa', 'Iris-setosa', 'Iris-setosa', 'Iris-setosa', 'Iris-setosa', 'Iris-setosa', 'Iris-setosa', 'Iris-setosa', 'Iris-setosa', 'Iris-setosa', 'Iris-setosa', 'Iris-setosa', 'Iris-setosa', 'Iris-setosa', 'Iris-setosa', 'Iris-setosa', 'Iris-setosa', 'Iris-setosa', 'Iris-setosa', 'Iris-setosa', 'Iris-versicolor', 'Iris-versicolor', 'Iris-versicolor', 'Iris-versicolor', 'Iris-versicolor', 'Iris-versicolor', 'Iris-versicolor', 'Iris-versicolor', 'Iris-versicolor', 'Iris-versicolor', 'Iris-versicolor', 'Iris-versicolor', 'Iris-versicolor', 'Iris-versicolor', 'Iris-versicolor', 'Iris-versicolor', 'Iris-versicolor', 'Iris-versicolor', 'Iris-versicolor', 'Iris-versicolor', 'Iris-versicolor', 'Iris-versicolor', 'Iris-versicolor', 'Iris-versicolor', 'Iris-versicolor', 'Iris-versicolor', 'Iris-versicolor', 'Iris-versicolor', 'Iris-versicolor', 'Iris-versicolor', 'Iris-versicolor', 'Iris-versicolor', 'Iris-versicolor', 'Iris-versicolor', 'Iris-versicolor', 'Iris-versicolor', 'Iris-versicolor', 'Iris-versicolor', 'Iris-versicolor', 'Iris-versicolor', 'Iris-versicolor', 'Iris-versicolor', 'Iris-versicolor', 'Iris-versicolor', 'Iris-versicolor', 'Iris-versicolor', 'Iris-versicolor', 'Iris-versicolor', 'Iris-versicolor', 'Iris-versicolor', 'Iris-virginica', 'Iris-virginica', 'Iris-virginica', 'Iris-virginica', 'Iris-virginica', 'Iris-virginica', 'Iris-virginica', 'Iris-virginica', 'Iris-virginica', 'Iris-virginica', 'Iris-virginica', 'Iris-virginica', 'Iris-virginica', 'Iris-virginica', 'Iris-virginica', 'Iris-virginica', 'Iris-virginica', 'Iris-virginica', 'Iris-virginica', 'Iris-virginica', 'Iris-virginica', 'Iris-virginica', 'Iris-virginica', 'Iris-virginica', 'Iris-virginica', 'Iris-virginica', 'Iris-virginica', 'Iris-virginica', 'Iris-virginica', 'Iris-virginica', 'Iris-virginica', 'Iris-virginica', 'Iris-virginica', 'Iris-virginica', 'Iris-virginica', 'Iris-virginica', 'Iris-virginica', 'Iris-virginica', 'Iris-virginica', 'Iris-virginica', 'Iris-virginica', 'Iris-virginica', 'Iris-virginica', 'Iris-virginica', 'Iris-virginica', 'Iris-virginica', 'Iris-virginica', 'Iris-virginica', 'Iris-virginica', 'Iris-virginica']\n"
          ]
        }
      ]
    },
    {
      "cell_type": "markdown",
      "source": [
        "4.Write a recursive function in python to find the factorial of a number. Using the function find the sum of 1/factorial(n) in the range of 0 to 10.\n",
        "\n"
      ],
      "metadata": {
        "id": "9ZaF6LOzXINJ"
      }
    },
    {
      "cell_type": "code",
      "source": [
        "def fact_recursive(n):\n",
        "    if n == 0:\n",
        "        return 1\n",
        "    else:\n",
        "        return n * fact_recursive(n - 1)\n",
        "\n",
        "def calculate_sum():\n",
        "    total_sum = 0\n",
        "    for n in range(11):\n",
        "        total_sum += 1 / fact_recursive(n)\n",
        "    return total_sum\n",
        "\n",
        "if __name__ == \"__main__\":\n",
        "    num = int(input(\"Enter a number to find its factorial: \"))\n",
        "\n",
        "    factorial = fact_recursive(num)\n",
        "    print(f\"The factorial of {num} is: {factorial}\")\n",
        "\n",
        "    sum_of_inverse_factorials = calculate_sum()\n",
        "    print(\"The sum of 1/factorial(n) in the range 0 to 10 is:\", sum_of_inverse_factorials)\n"
      ],
      "metadata": {
        "colab": {
          "base_uri": "https://localhost:8080/"
        },
        "id": "Poqa5XIQYDg3",
        "outputId": "8a67559c-66d3-4c01-d25c-d224c8c248a0"
      },
      "execution_count": null,
      "outputs": [
        {
          "output_type": "stream",
          "name": "stdout",
          "text": [
            "Enter a number to find its factorial: 5\n",
            "The factorial of 5 is: 120\n",
            "The sum of 1/factorial(n) in the range 0 to 10 is: 2.7182818011463845\n"
          ]
        }
      ]
    },
    {
      "cell_type": "markdown",
      "source": [
        "5.Write a program that asks the user for a number and then prints out a list of all the divisors of that number."
      ],
      "metadata": {
        "id": "q71u-O1nqTgB"
      }
    },
    {
      "cell_type": "code",
      "source": [
        "def prime(number):\n",
        "    if number < 2:\n",
        "        return False\n",
        "    for i in range(2, int(number**0.5) + 1):\n",
        "        if number % i == 0:\n",
        "            return False\n",
        "    return True\n",
        "\n",
        "limit = int(input(\"Enter the number up to which you want to find prime numbers: \"))\n",
        "\n",
        "prime_numbers = [num for num in range(2, limit + 1) if prime(num)]\n",
        "\n",
        "print(\"Prime numbers up to\", limit, \"are:\", prime_numbers)"
      ],
      "metadata": {
        "colab": {
          "base_uri": "https://localhost:8080/"
        },
        "id": "wO8X34_spyE_",
        "outputId": "393a50f8-fec1-4bb6-c940-facd5f400439"
      },
      "execution_count": null,
      "outputs": [
        {
          "output_type": "stream",
          "name": "stdout",
          "text": [
            "Enter the number up to which you want to find prime numbers: 8\n",
            "Prime numbers up to 8 are: [2, 3, 5, 7]\n"
          ]
        }
      ]
    },
    {
      "cell_type": "markdown",
      "source": [
        "6.Write a program to create a list of prime numbers upto a number given as user input. (Use a user defined function to check prime number)."
      ],
      "metadata": {
        "id": "TriNYuGapXhu"
      }
    },
    {
      "cell_type": "code",
      "source": [
        "def find_div(number):\n",
        "    divisors = []\n",
        "    for i in range(1, number + 1):\n",
        "        if number % i == 0:\n",
        "            divisors.append(i)\n",
        "    return divisors\n",
        "\n",
        "number = int(input(\"Enter a number: \"))\n",
        "if number <= 0:\n",
        "  print(\"Please enter a positive integer.\")\n",
        "else:\n",
        " divisors = find_div(number)\n",
        " print(\"Divisors of\", number, \"are:\", divisors)"
      ],
      "metadata": {
        "colab": {
          "base_uri": "https://localhost:8080/"
        },
        "id": "T_bzwW9nqblT",
        "outputId": "f5569d92-52a3-4e40-e83e-33b19fe45abe"
      },
      "execution_count": null,
      "outputs": [
        {
          "output_type": "stream",
          "name": "stdout",
          "text": [
            "Enter a number: 9\n",
            "Divisors of 9 are: [1, 3, 9]\n"
          ]
        }
      ]
    },
    {
      "cell_type": "markdown",
      "source": [
        "7.Write a program to find factorial of a user provided number using recursive function."
      ],
      "metadata": {
        "id": "4i_Ms8-epDrQ"
      }
    },
    {
      "cell_type": "code",
      "source": [
        "def factorial_recursive(n):\n",
        "    if n == 0:\n",
        "        return 1\n",
        "    else:\n",
        "        return n * factorial_recursive(n - 1)\n",
        "\n",
        "if __name__ == \"__main__\":\n",
        "    num = int(input(\"Enter a number to find its factorial: \"))\n",
        "\n",
        "    if num < 0:\n",
        "        print(\"Factorial is not defined for negative numbers.\")\n",
        "    else:\n",
        "        result = factorial_recursive(num)\n",
        "        print(f\"The factorial of {num} is: {result}\")"
      ],
      "metadata": {
        "colab": {
          "base_uri": "https://localhost:8080/"
        },
        "id": "T5A3WdwgpJXx",
        "outputId": "ac0ee667-12d2-4c9e-9c3e-da9082eacc6d"
      },
      "execution_count": null,
      "outputs": [
        {
          "output_type": "stream",
          "name": "stdout",
          "text": [
            "Enter a number to find its factorial: 5\n",
            "The factorial of 5 is: 120\n"
          ]
        }
      ]
    },
    {
      "cell_type": "markdown",
      "source": [
        "8.Write a program in python to implement stack operation. Write your own function for push,pop and display."
      ],
      "metadata": {
        "id": "WcjMgyG2mBnt"
      }
    },
    {
      "cell_type": "code",
      "source": [
        "class Stack:\n",
        "    def __init__(self):\n",
        "        self.items = []\n",
        "\n",
        "    def push(self, item):\n",
        "        self.items.append(item)\n",
        "\n",
        "    def pop(self):\n",
        "        if not self.is_empty():\n",
        "            return self.items.pop()\n",
        "        else:\n",
        "            return None\n",
        "\n",
        "    def is_empty(self):\n",
        "        return len(self.items) == 0\n",
        "\n",
        "    def display(self):\n",
        "        if not self.is_empty():\n",
        "            print(\"Stack contents:\")\n",
        "            for item in reversed(self.items):\n",
        "                print(item)\n",
        "        else:\n",
        "            print(\"Stack is empty.\")\n",
        "\n",
        "\n",
        "stack = Stack()\n",
        "\n",
        "while True:\n",
        "        print(\"\\nChoose an operation:\")\n",
        "        print(\"1. Push\")\n",
        "        print(\"2. Pop\")\n",
        "        print(\"3. Display\")\n",
        "        print(\"4. Exit\")\n",
        "\n",
        "        choice = int(input(\"Enter your choice : \"))\n",
        "\n",
        "        if choice == 1:\n",
        "            item = input(\"Enter the item to push: \")\n",
        "            stack.push(item)\n",
        "            print(f\"{item} has been pushed onto the stack.\")\n",
        "\n",
        "        elif choice == 2:\n",
        "            item = stack.pop()\n",
        "            if item is not None:\n",
        "                print(f\"{item} has been popped from the stack.\")\n",
        "            else:\n",
        "                print(\"Stack is empty. Cannot pop.\")\n",
        "\n",
        "        elif choice == 3:\n",
        "            stack.display()\n",
        "\n",
        "        elif choice == 4:\n",
        "            print(\"Exiting the program.\")\n",
        "            break\n",
        "\n",
        "        else:\n",
        "            print(\"Invalid choice. Please try again.\")"
      ],
      "metadata": {
        "colab": {
          "base_uri": "https://localhost:8080/"
        },
        "id": "3u9J1lu_mCbt",
        "outputId": "88fa1909-0ed4-4ecc-c7d9-33cdc526fcd2"
      },
      "execution_count": null,
      "outputs": [
        {
          "output_type": "stream",
          "name": "stdout",
          "text": [
            "\n",
            "Choose an operation:\n",
            "1. Push\n",
            "2. Pop\n",
            "3. Display\n",
            "4. Exit\n",
            "Enter your choice : 1\n",
            "Enter the item to push: 5\n",
            "5 has been pushed onto the stack.\n",
            "\n",
            "Choose an operation:\n",
            "1. Push\n",
            "2. Pop\n",
            "3. Display\n",
            "4. Exit\n",
            "Enter your choice : 1\n",
            "Enter the item to push: 9\n",
            "9 has been pushed onto the stack.\n",
            "\n",
            "Choose an operation:\n",
            "1. Push\n",
            "2. Pop\n",
            "3. Display\n",
            "4. Exit\n",
            "Enter your choice : 1\n",
            "Enter the item to push: 8\n",
            "8 has been pushed onto the stack.\n",
            "\n",
            "Choose an operation:\n",
            "1. Push\n",
            "2. Pop\n",
            "3. Display\n",
            "4. Exit\n",
            "Enter your choice : 3\n",
            "Stack contents:\n",
            "8\n",
            "9\n",
            "5\n",
            "\n",
            "Choose an operation:\n",
            "1. Push\n",
            "2. Pop\n",
            "3. Display\n",
            "4. Exit\n",
            "Enter your choice : 2\n",
            "8 has been popped from the stack.\n",
            "\n",
            "Choose an operation:\n",
            "1. Push\n",
            "2. Pop\n",
            "3. Display\n",
            "4. Exit\n",
            "Enter your choice : 3\n",
            "Stack contents:\n",
            "9\n",
            "5\n",
            "\n",
            "Choose an operation:\n",
            "1. Push\n",
            "2. Pop\n",
            "3. Display\n",
            "4. Exit\n",
            "Enter your choice : 4\n",
            "Exiting the program.\n"
          ]
        }
      ]
    },
    {
      "cell_type": "markdown",
      "source": [
        "9. Write a program in python to implement quene operation. Write your own function for enqueue,dequenq and display."
      ],
      "metadata": {
        "id": "O8tqkRHBnm87"
      }
    },
    {
      "cell_type": "code",
      "source": [
        "class Queue:\n",
        "    def __init__(self):\n",
        "        self.items = []\n",
        "\n",
        "    def enqueue(self, item):\n",
        "        self.items.append(item)\n",
        "\n",
        "    def dequeue(self):\n",
        "        if not self.is_empty():\n",
        "            return self.items.pop(0)\n",
        "        else:\n",
        "            return None\n",
        "\n",
        "    def is_empty(self):\n",
        "        return len(self.items) == 0\n",
        "\n",
        "    def display(self):\n",
        "        if not self.is_empty():\n",
        "            print(\"Queue contents:\")\n",
        "            for item in self.items:\n",
        "                print(item)\n",
        "        else:\n",
        "            print(\"Queue is empty.\")\n",
        "queue = Queue()\n",
        "\n",
        "while True:\n",
        "        print(\"\\nChoose an operation:\")\n",
        "        print(\"1. Enqueue\")\n",
        "        print(\"2. Dequeue\")\n",
        "        print(\"3. Display\")\n",
        "        print(\"4. Exit\")\n",
        "\n",
        "        choice = int(input(\"Enter your choice : \"))\n",
        "\n",
        "        if choice == 1:\n",
        "            item = input(\"Enter the item to enqueue: \")\n",
        "            queue.enqueue(item)\n",
        "            print(f\"{item} has been enqueued.\")\n",
        "\n",
        "        elif choice == 2:\n",
        "            item = queue.dequeue()\n",
        "            if item is not None:\n",
        "                print(f\"{item} has been dequeued.\")\n",
        "            else:\n",
        "                print(\"Queue is empty. Cannot dequeue.\")\n",
        "\n",
        "        elif choice == 3:\n",
        "            queue.display()\n",
        "\n",
        "        elif choice == 4:\n",
        "            print(\"Exiting the program.\")\n",
        "            break\n",
        "\n",
        "        else:\n",
        "            print(\"Invalid choice. Please try again.\")"
      ],
      "metadata": {
        "colab": {
          "base_uri": "https://localhost:8080/"
        },
        "id": "IiD3HjvDnwXQ",
        "outputId": "b4d7582c-ad78-417a-ce8b-6426d384f464"
      },
      "execution_count": null,
      "outputs": [
        {
          "output_type": "stream",
          "name": "stdout",
          "text": [
            "\n",
            "Choose an operation:\n",
            "1. Enqueue\n",
            "2. Dequeue\n",
            "3. Display\n",
            "4. Exit\n",
            "Enter your choice : 1\n",
            "Enter the item to enqueue: 5\n",
            "5 has been enqueued.\n",
            "\n",
            "Choose an operation:\n",
            "1. Enqueue\n",
            "2. Dequeue\n",
            "3. Display\n",
            "4. Exit\n",
            "Enter your choice : 1\n",
            "Enter the item to enqueue: 6\n",
            "6 has been enqueued.\n",
            "\n",
            "Choose an operation:\n",
            "1. Enqueue\n",
            "2. Dequeue\n",
            "3. Display\n",
            "4. Exit\n",
            "Enter your choice : 9\n",
            "Invalid choice. Please try again.\n",
            "\n",
            "Choose an operation:\n",
            "1. Enqueue\n",
            "2. Dequeue\n",
            "3. Display\n",
            "4. Exit\n",
            "Enter your choice : 3\n",
            "Queue contents:\n",
            "5\n",
            "6\n",
            "\n",
            "Choose an operation:\n",
            "1. Enqueue\n",
            "2. Dequeue\n",
            "3. Display\n",
            "4. Exit\n",
            "Enter your choice : 2\n",
            "5 has been dequeued.\n",
            "\n",
            "Choose an operation:\n",
            "1. Enqueue\n",
            "2. Dequeue\n",
            "3. Display\n",
            "4. Exit\n",
            "Enter your choice : 3\n",
            "Queue contents:\n",
            "6\n",
            "\n",
            "Choose an operation:\n",
            "1. Enqueue\n",
            "2. Dequeue\n",
            "3. Display\n",
            "4. Exit\n",
            "Enter your choice : 4\n",
            "Exiting the program.\n"
          ]
        }
      ]
    }
  ]
}